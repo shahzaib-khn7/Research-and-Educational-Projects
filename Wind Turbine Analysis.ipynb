{
 "cells": [
  {
   "cell_type": "markdown",
   "id": "099ad54a",
   "metadata": {},
   "source": [
    "## Conversion of Wind Speeds to Power Output of a Wind Turbine"
   ]
  },
  {
   "cell_type": "code",
   "execution_count": 1,
   "id": "b033d73f",
   "metadata": {},
   "outputs": [],
   "source": [
    " # (a) Import pandas under the alias pd, and matplotlib like in the tutorials."
   ]
  },
  {
   "cell_type": "code",
   "execution_count": 2,
   "id": "42252d0f",
   "metadata": {},
   "outputs": [],
   "source": [
    "import numpy as np\n",
    "import pandas as pd\n",
    "from matplotlib import pyplot as plt"
   ]
  },
  {
   "cell_type": "code",
   "execution_count": 3,
   "id": "6b28a267",
   "metadata": {},
   "outputs": [],
   "source": [
    "# (b) Read the CSV file given under the link above into (b) pandas such that the timestamps given in the\n",
    "# first column become the indices."
   ]
  },
  {
   "cell_type": "code",
   "execution_count": 4,
   "id": "480e2ecd",
   "metadata": {
    "scrolled": true
   },
   "outputs": [
    {
     "data": {
      "text/html": [
       "<div>\n",
       "<style scoped>\n",
       "    .dataframe tbody tr th:only-of-type {\n",
       "        vertical-align: middle;\n",
       "    }\n",
       "\n",
       "    .dataframe tbody tr th {\n",
       "        vertical-align: top;\n",
       "    }\n",
       "\n",
       "    .dataframe thead th {\n",
       "        text-align: right;\n",
       "    }\n",
       "</style>\n",
       "<table border=\"1\" class=\"dataframe\">\n",
       "  <thead>\n",
       "    <tr style=\"text-align: right;\">\n",
       "      <th></th>\n",
       "      <th>wind_speed</th>\n",
       "    </tr>\n",
       "    <tr>\n",
       "      <th>time</th>\n",
       "      <th></th>\n",
       "    </tr>\n",
       "  </thead>\n",
       "  <tbody>\n",
       "    <tr>\n",
       "      <th>2019-01-01 00:00:00</th>\n",
       "      <td>7.885</td>\n",
       "    </tr>\n",
       "    <tr>\n",
       "      <th>2019-01-01 01:00:00</th>\n",
       "      <td>8.786</td>\n",
       "    </tr>\n",
       "    <tr>\n",
       "      <th>2019-01-01 02:00:00</th>\n",
       "      <td>9.390</td>\n",
       "    </tr>\n",
       "    <tr>\n",
       "      <th>2019-01-01 03:00:00</th>\n",
       "      <td>9.768</td>\n",
       "    </tr>\n",
       "    <tr>\n",
       "      <th>2019-01-01 04:00:00</th>\n",
       "      <td>10.317</td>\n",
       "    </tr>\n",
       "    <tr>\n",
       "      <th>...</th>\n",
       "      <td>...</td>\n",
       "    </tr>\n",
       "    <tr>\n",
       "      <th>2019-12-31 19:00:00</th>\n",
       "      <td>6.600</td>\n",
       "    </tr>\n",
       "    <tr>\n",
       "      <th>2019-12-31 20:00:00</th>\n",
       "      <td>6.097</td>\n",
       "    </tr>\n",
       "    <tr>\n",
       "      <th>2019-12-31 21:00:00</th>\n",
       "      <td>5.802</td>\n",
       "    </tr>\n",
       "    <tr>\n",
       "      <th>2019-12-31 22:00:00</th>\n",
       "      <td>5.372</td>\n",
       "    </tr>\n",
       "    <tr>\n",
       "      <th>2019-12-31 23:00:00</th>\n",
       "      <td>5.108</td>\n",
       "    </tr>\n",
       "  </tbody>\n",
       "</table>\n",
       "<p>8760 rows × 1 columns</p>\n",
       "</div>"
      ],
      "text/plain": [
       "                     wind_speed\n",
       "time                           \n",
       "2019-01-01 00:00:00       7.885\n",
       "2019-01-01 01:00:00       8.786\n",
       "2019-01-01 02:00:00       9.390\n",
       "2019-01-01 03:00:00       9.768\n",
       "2019-01-01 04:00:00      10.317\n",
       "...                         ...\n",
       "2019-12-31 19:00:00       6.600\n",
       "2019-12-31 20:00:00       6.097\n",
       "2019-12-31 21:00:00       5.802\n",
       "2019-12-31 22:00:00       5.372\n",
       "2019-12-31 23:00:00       5.108\n",
       "\n",
       "[8760 rows x 1 columns]"
      ]
     },
     "execution_count": 4,
     "metadata": {},
     "output_type": "execute_result"
    }
   ],
   "source": [
    "wind_speed = pd.read_csv('https://tubcloud.tu-berlin.de/s/DbDZ7KCtoRAFpyS/download/wind-speeds.csv', index_col=0)\n",
    "wind_speed"
   ]
  },
  {
   "cell_type": "code",
   "execution_count": 5,
   "id": "bb5eb95c",
   "metadata": {},
   "outputs": [],
   "source": [
    "# (c) Convert the wind speeds to a hub height of 80 meters using power law with (c) 𝛼 = 1/7."
   ]
  },
  {
   "cell_type": "code",
   "execution_count": 6,
   "id": "ef590b78",
   "metadata": {
    "scrolled": true
   },
   "outputs": [
    {
     "data": {
      "text/html": [
       "<div>\n",
       "<style scoped>\n",
       "    .dataframe tbody tr th:only-of-type {\n",
       "        vertical-align: middle;\n",
       "    }\n",
       "\n",
       "    .dataframe tbody tr th {\n",
       "        vertical-align: top;\n",
       "    }\n",
       "\n",
       "    .dataframe thead th {\n",
       "        text-align: right;\n",
       "    }\n",
       "</style>\n",
       "<table border=\"1\" class=\"dataframe\">\n",
       "  <thead>\n",
       "    <tr style=\"text-align: right;\">\n",
       "      <th></th>\n",
       "      <th>wind_speed</th>\n",
       "      <th>wind_speed_at_80m_hub_height</th>\n",
       "    </tr>\n",
       "    <tr>\n",
       "      <th>time</th>\n",
       "      <th></th>\n",
       "      <th></th>\n",
       "    </tr>\n",
       "  </thead>\n",
       "  <tbody>\n",
       "    <tr>\n",
       "      <th>2019-01-01 00:00:00</th>\n",
       "      <td>7.885</td>\n",
       "      <td>10.61</td>\n",
       "    </tr>\n",
       "    <tr>\n",
       "      <th>2019-01-01 01:00:00</th>\n",
       "      <td>8.786</td>\n",
       "      <td>11.83</td>\n",
       "    </tr>\n",
       "    <tr>\n",
       "      <th>2019-01-01 02:00:00</th>\n",
       "      <td>9.390</td>\n",
       "      <td>12.64</td>\n",
       "    </tr>\n",
       "    <tr>\n",
       "      <th>2019-01-01 03:00:00</th>\n",
       "      <td>9.768</td>\n",
       "      <td>13.15</td>\n",
       "    </tr>\n",
       "    <tr>\n",
       "      <th>2019-01-01 04:00:00</th>\n",
       "      <td>10.317</td>\n",
       "      <td>13.89</td>\n",
       "    </tr>\n",
       "    <tr>\n",
       "      <th>...</th>\n",
       "      <td>...</td>\n",
       "      <td>...</td>\n",
       "    </tr>\n",
       "    <tr>\n",
       "      <th>2019-12-31 19:00:00</th>\n",
       "      <td>6.600</td>\n",
       "      <td>8.88</td>\n",
       "    </tr>\n",
       "    <tr>\n",
       "      <th>2019-12-31 20:00:00</th>\n",
       "      <td>6.097</td>\n",
       "      <td>8.21</td>\n",
       "    </tr>\n",
       "    <tr>\n",
       "      <th>2019-12-31 21:00:00</th>\n",
       "      <td>5.802</td>\n",
       "      <td>7.81</td>\n",
       "    </tr>\n",
       "    <tr>\n",
       "      <th>2019-12-31 22:00:00</th>\n",
       "      <td>5.372</td>\n",
       "      <td>7.23</td>\n",
       "    </tr>\n",
       "    <tr>\n",
       "      <th>2019-12-31 23:00:00</th>\n",
       "      <td>5.108</td>\n",
       "      <td>6.87</td>\n",
       "    </tr>\n",
       "  </tbody>\n",
       "</table>\n",
       "<p>8760 rows × 2 columns</p>\n",
       "</div>"
      ],
      "text/plain": [
       "                     wind_speed  wind_speed_at_80m_hub_height\n",
       "time                                                         \n",
       "2019-01-01 00:00:00       7.885                         10.61\n",
       "2019-01-01 01:00:00       8.786                         11.83\n",
       "2019-01-01 02:00:00       9.390                         12.64\n",
       "2019-01-01 03:00:00       9.768                         13.15\n",
       "2019-01-01 04:00:00      10.317                         13.89\n",
       "...                         ...                           ...\n",
       "2019-12-31 19:00:00       6.600                          8.88\n",
       "2019-12-31 20:00:00       6.097                          8.21\n",
       "2019-12-31 21:00:00       5.802                          7.81\n",
       "2019-12-31 22:00:00       5.372                          7.23\n",
       "2019-12-31 23:00:00       5.108                          6.87\n",
       "\n",
       "[8760 rows x 2 columns]"
      ]
     },
     "execution_count": 6,
     "metadata": {},
     "output_type": "execute_result"
    }
   ],
   "source": [
    "wind_speed['wind_speed_at_80m_hub_height'] = wind_speed['wind_speed'].map(lambda x: x *((80/10)**(1/7))).round(2)\n",
    "wind_speed"
   ]
  },
  {
   "cell_type": "code",
   "execution_count": 7,
   "id": "f4666ab9",
   "metadata": {},
   "outputs": [],
   "source": [
    "# (d) Write a function for each wind turbine that takes the wind speed as an argument and converts a \n",
    "# given value into power production using the respective turbine’s power curve."
   ]
  },
  {
   "cell_type": "code",
   "execution_count": 8,
   "id": "8bb4374e",
   "metadata": {},
   "outputs": [
    {
     "name": "stdin",
     "output_type": "stream",
     "text": [
      "Enter wind speed:  10\n"
     ]
    },
    {
     "name": "stdout",
     "output_type": "stream",
     "text": [
      "Power Production = 2.6 [MW]\n"
     ]
    }
   ],
   "source": [
    "x = int(input('Enter wind speed: '))\n",
    "outcome = 'Power Production = 0 [MW]' if x < 4 else 'Power Production = 0.2 [MW]' if x < 6 else 'Power Production = 0.5 [MW]' if x < 8 else 'Power Production = 1.4 [MW]' if x < 10 else 'Power Production = 2.6 [MW]' if x < 12 else 'Power Production = 3.0 [MW]' if x < 14 else 'Power Production = 3.0 [MW]' if x < 16 else 'Power Production = 3.0 [MW]' if x<26 else 'Speed beyond cut off'\n",
    "print(outcome)"
   ]
  },
  {
   "cell_type": "code",
   "execution_count": 9,
   "id": "340fae73",
   "metadata": {},
   "outputs": [
    {
     "name": "stdin",
     "output_type": "stream",
     "text": [
      "Enter wind speed:  90\n"
     ]
    },
    {
     "name": "stdout",
     "output_type": "stream",
     "text": [
      "Speed beyond cut off\n"
     ]
    }
   ],
   "source": [
    "x = int(input('Enter wind speed: '))\n",
    "outcome = 'Power Production = 0 [MW]' if x < 4 else 'Power Production = 0.1 [MW]' if x < 6 else 'Power Production = 0.3 [MW]' if x < 8 else 'Power Production = 0.8 [MW]' if x < 10 else 'Power Production = 1.6 [MW]' if x < 12 else 'Power Production = 2.2 [MW]' if x < 12 else 'Power Production = 2.7 [MW]' if x < 14 else 'Power Production = 3.0 [MW]' if x < 16 else 'Speed beyond cut off'\n",
    "print(outcome)"
   ]
  },
  {
   "cell_type": "code",
   "execution_count": 10,
   "id": "fd005cfb",
   "metadata": {},
   "outputs": [],
   "source": [
    "# (e) Use this function convert from wind speeds to power production for the full year for each of the\n",
    "# two turbine types."
   ]
  },
  {
   "cell_type": "code",
   "execution_count": 11,
   "id": "e5dc9384",
   "metadata": {
    "scrolled": true
   },
   "outputs": [
    {
     "data": {
      "text/html": [
       "<div>\n",
       "<style scoped>\n",
       "    .dataframe tbody tr th:only-of-type {\n",
       "        vertical-align: middle;\n",
       "    }\n",
       "\n",
       "    .dataframe tbody tr th {\n",
       "        vertical-align: top;\n",
       "    }\n",
       "\n",
       "    .dataframe thead th {\n",
       "        text-align: right;\n",
       "    }\n",
       "</style>\n",
       "<table border=\"1\" class=\"dataframe\">\n",
       "  <thead>\n",
       "    <tr style=\"text-align: right;\">\n",
       "      <th></th>\n",
       "      <th>wind_speed</th>\n",
       "      <th>wind_speed_at_80m_hub_height</th>\n",
       "      <th>Power_Production_Vestas_V112_[MW]</th>\n",
       "    </tr>\n",
       "    <tr>\n",
       "      <th>time</th>\n",
       "      <th></th>\n",
       "      <th></th>\n",
       "      <th></th>\n",
       "    </tr>\n",
       "  </thead>\n",
       "  <tbody>\n",
       "    <tr>\n",
       "      <th>2019-01-01 00:00:00</th>\n",
       "      <td>7.885</td>\n",
       "      <td>10.61</td>\n",
       "      <td>2.6</td>\n",
       "    </tr>\n",
       "    <tr>\n",
       "      <th>2019-01-01 01:00:00</th>\n",
       "      <td>8.786</td>\n",
       "      <td>11.83</td>\n",
       "      <td>2.6</td>\n",
       "    </tr>\n",
       "    <tr>\n",
       "      <th>2019-01-01 02:00:00</th>\n",
       "      <td>9.390</td>\n",
       "      <td>12.64</td>\n",
       "      <td>3.0</td>\n",
       "    </tr>\n",
       "    <tr>\n",
       "      <th>2019-01-01 03:00:00</th>\n",
       "      <td>9.768</td>\n",
       "      <td>13.15</td>\n",
       "      <td>3.0</td>\n",
       "    </tr>\n",
       "    <tr>\n",
       "      <th>2019-01-01 04:00:00</th>\n",
       "      <td>10.317</td>\n",
       "      <td>13.89</td>\n",
       "      <td>3.0</td>\n",
       "    </tr>\n",
       "    <tr>\n",
       "      <th>...</th>\n",
       "      <td>...</td>\n",
       "      <td>...</td>\n",
       "      <td>...</td>\n",
       "    </tr>\n",
       "    <tr>\n",
       "      <th>2019-12-31 19:00:00</th>\n",
       "      <td>6.600</td>\n",
       "      <td>8.88</td>\n",
       "      <td>1.4</td>\n",
       "    </tr>\n",
       "    <tr>\n",
       "      <th>2019-12-31 20:00:00</th>\n",
       "      <td>6.097</td>\n",
       "      <td>8.21</td>\n",
       "      <td>1.4</td>\n",
       "    </tr>\n",
       "    <tr>\n",
       "      <th>2019-12-31 21:00:00</th>\n",
       "      <td>5.802</td>\n",
       "      <td>7.81</td>\n",
       "      <td>0.5</td>\n",
       "    </tr>\n",
       "    <tr>\n",
       "      <th>2019-12-31 22:00:00</th>\n",
       "      <td>5.372</td>\n",
       "      <td>7.23</td>\n",
       "      <td>0.5</td>\n",
       "    </tr>\n",
       "    <tr>\n",
       "      <th>2019-12-31 23:00:00</th>\n",
       "      <td>5.108</td>\n",
       "      <td>6.87</td>\n",
       "      <td>0.5</td>\n",
       "    </tr>\n",
       "  </tbody>\n",
       "</table>\n",
       "<p>8760 rows × 3 columns</p>\n",
       "</div>"
      ],
      "text/plain": [
       "                     wind_speed  wind_speed_at_80m_hub_height  \\\n",
       "time                                                            \n",
       "2019-01-01 00:00:00       7.885                         10.61   \n",
       "2019-01-01 01:00:00       8.786                         11.83   \n",
       "2019-01-01 02:00:00       9.390                         12.64   \n",
       "2019-01-01 03:00:00       9.768                         13.15   \n",
       "2019-01-01 04:00:00      10.317                         13.89   \n",
       "...                         ...                           ...   \n",
       "2019-12-31 19:00:00       6.600                          8.88   \n",
       "2019-12-31 20:00:00       6.097                          8.21   \n",
       "2019-12-31 21:00:00       5.802                          7.81   \n",
       "2019-12-31 22:00:00       5.372                          7.23   \n",
       "2019-12-31 23:00:00       5.108                          6.87   \n",
       "\n",
       "                     Power_Production_Vestas_V112_[MW]  \n",
       "time                                                    \n",
       "2019-01-01 00:00:00                                2.6  \n",
       "2019-01-01 01:00:00                                2.6  \n",
       "2019-01-01 02:00:00                                3.0  \n",
       "2019-01-01 03:00:00                                3.0  \n",
       "2019-01-01 04:00:00                                3.0  \n",
       "...                                                ...  \n",
       "2019-12-31 19:00:00                                1.4  \n",
       "2019-12-31 20:00:00                                1.4  \n",
       "2019-12-31 21:00:00                                0.5  \n",
       "2019-12-31 22:00:00                                0.5  \n",
       "2019-12-31 23:00:00                                0.5  \n",
       "\n",
       "[8760 rows x 3 columns]"
      ]
     },
     "execution_count": 11,
     "metadata": {},
     "output_type": "execute_result"
    }
   ],
   "source": [
    "wind_speed['Power_Production_Vestas_V112_[MW]'] = wind_speed['wind_speed_at_80m_hub_height'].map(lambda x: 0 if x < 4 else 0.2 if x < 6 else 0.5 if x < 8 else 1.4 if x < 10 else 2.6 if x < 12 else 3.0 if x < 14 else 3.0 if x < 16 else 3.0 if x<26 else 'Speed beyond cut off')\n",
    "wind_speed"
   ]
  },
  {
   "cell_type": "code",
   "execution_count": 12,
   "id": "4a7a0bd8",
   "metadata": {
    "scrolled": true
   },
   "outputs": [
    {
     "data": {
      "text/html": [
       "<div>\n",
       "<style scoped>\n",
       "    .dataframe tbody tr th:only-of-type {\n",
       "        vertical-align: middle;\n",
       "    }\n",
       "\n",
       "    .dataframe tbody tr th {\n",
       "        vertical-align: top;\n",
       "    }\n",
       "\n",
       "    .dataframe thead th {\n",
       "        text-align: right;\n",
       "    }\n",
       "</style>\n",
       "<table border=\"1\" class=\"dataframe\">\n",
       "  <thead>\n",
       "    <tr style=\"text-align: right;\">\n",
       "      <th></th>\n",
       "      <th>wind_speed</th>\n",
       "      <th>wind_speed_at_80m_hub_height</th>\n",
       "      <th>Power_Production_Vestas_V112_[MW]</th>\n",
       "      <th>Power_Production_Enercon E82 3000kW [MW]</th>\n",
       "    </tr>\n",
       "    <tr>\n",
       "      <th>time</th>\n",
       "      <th></th>\n",
       "      <th></th>\n",
       "      <th></th>\n",
       "      <th></th>\n",
       "    </tr>\n",
       "  </thead>\n",
       "  <tbody>\n",
       "    <tr>\n",
       "      <th>2019-01-01 00:00:00</th>\n",
       "      <td>7.885</td>\n",
       "      <td>10.61</td>\n",
       "      <td>2.6</td>\n",
       "      <td>1.6</td>\n",
       "    </tr>\n",
       "    <tr>\n",
       "      <th>2019-01-01 01:00:00</th>\n",
       "      <td>8.786</td>\n",
       "      <td>11.83</td>\n",
       "      <td>2.6</td>\n",
       "      <td>1.6</td>\n",
       "    </tr>\n",
       "    <tr>\n",
       "      <th>2019-01-01 02:00:00</th>\n",
       "      <td>9.390</td>\n",
       "      <td>12.64</td>\n",
       "      <td>3.0</td>\n",
       "      <td>2.7</td>\n",
       "    </tr>\n",
       "    <tr>\n",
       "      <th>2019-01-01 03:00:00</th>\n",
       "      <td>9.768</td>\n",
       "      <td>13.15</td>\n",
       "      <td>3.0</td>\n",
       "      <td>2.7</td>\n",
       "    </tr>\n",
       "    <tr>\n",
       "      <th>2019-01-01 04:00:00</th>\n",
       "      <td>10.317</td>\n",
       "      <td>13.89</td>\n",
       "      <td>3.0</td>\n",
       "      <td>2.7</td>\n",
       "    </tr>\n",
       "    <tr>\n",
       "      <th>...</th>\n",
       "      <td>...</td>\n",
       "      <td>...</td>\n",
       "      <td>...</td>\n",
       "      <td>...</td>\n",
       "    </tr>\n",
       "    <tr>\n",
       "      <th>2019-12-31 19:00:00</th>\n",
       "      <td>6.600</td>\n",
       "      <td>8.88</td>\n",
       "      <td>1.4</td>\n",
       "      <td>0.8</td>\n",
       "    </tr>\n",
       "    <tr>\n",
       "      <th>2019-12-31 20:00:00</th>\n",
       "      <td>6.097</td>\n",
       "      <td>8.21</td>\n",
       "      <td>1.4</td>\n",
       "      <td>0.8</td>\n",
       "    </tr>\n",
       "    <tr>\n",
       "      <th>2019-12-31 21:00:00</th>\n",
       "      <td>5.802</td>\n",
       "      <td>7.81</td>\n",
       "      <td>0.5</td>\n",
       "      <td>0.3</td>\n",
       "    </tr>\n",
       "    <tr>\n",
       "      <th>2019-12-31 22:00:00</th>\n",
       "      <td>5.372</td>\n",
       "      <td>7.23</td>\n",
       "      <td>0.5</td>\n",
       "      <td>0.3</td>\n",
       "    </tr>\n",
       "    <tr>\n",
       "      <th>2019-12-31 23:00:00</th>\n",
       "      <td>5.108</td>\n",
       "      <td>6.87</td>\n",
       "      <td>0.5</td>\n",
       "      <td>0.3</td>\n",
       "    </tr>\n",
       "  </tbody>\n",
       "</table>\n",
       "<p>8760 rows × 4 columns</p>\n",
       "</div>"
      ],
      "text/plain": [
       "                     wind_speed  wind_speed_at_80m_hub_height  \\\n",
       "time                                                            \n",
       "2019-01-01 00:00:00       7.885                         10.61   \n",
       "2019-01-01 01:00:00       8.786                         11.83   \n",
       "2019-01-01 02:00:00       9.390                         12.64   \n",
       "2019-01-01 03:00:00       9.768                         13.15   \n",
       "2019-01-01 04:00:00      10.317                         13.89   \n",
       "...                         ...                           ...   \n",
       "2019-12-31 19:00:00       6.600                          8.88   \n",
       "2019-12-31 20:00:00       6.097                          8.21   \n",
       "2019-12-31 21:00:00       5.802                          7.81   \n",
       "2019-12-31 22:00:00       5.372                          7.23   \n",
       "2019-12-31 23:00:00       5.108                          6.87   \n",
       "\n",
       "                     Power_Production_Vestas_V112_[MW]  \\\n",
       "time                                                     \n",
       "2019-01-01 00:00:00                                2.6   \n",
       "2019-01-01 01:00:00                                2.6   \n",
       "2019-01-01 02:00:00                                3.0   \n",
       "2019-01-01 03:00:00                                3.0   \n",
       "2019-01-01 04:00:00                                3.0   \n",
       "...                                                ...   \n",
       "2019-12-31 19:00:00                                1.4   \n",
       "2019-12-31 20:00:00                                1.4   \n",
       "2019-12-31 21:00:00                                0.5   \n",
       "2019-12-31 22:00:00                                0.5   \n",
       "2019-12-31 23:00:00                                0.5   \n",
       "\n",
       "                     Power_Production_Enercon E82 3000kW [MW]  \n",
       "time                                                           \n",
       "2019-01-01 00:00:00                                       1.6  \n",
       "2019-01-01 01:00:00                                       1.6  \n",
       "2019-01-01 02:00:00                                       2.7  \n",
       "2019-01-01 03:00:00                                       2.7  \n",
       "2019-01-01 04:00:00                                       2.7  \n",
       "...                                                       ...  \n",
       "2019-12-31 19:00:00                                       0.8  \n",
       "2019-12-31 20:00:00                                       0.8  \n",
       "2019-12-31 21:00:00                                       0.3  \n",
       "2019-12-31 22:00:00                                       0.3  \n",
       "2019-12-31 23:00:00                                       0.3  \n",
       "\n",
       "[8760 rows x 4 columns]"
      ]
     },
     "execution_count": 12,
     "metadata": {},
     "output_type": "execute_result"
    }
   ],
   "source": [
    "wind_speed['Power_Production_Enercon E82 3000kW [MW]'] = wind_speed['wind_speed_at_80m_hub_height'].map(lambda x: 0 if x < 4 else 0.1 if x < 6 else 0.3 if x < 8 else 0.8 if x < 10 else 1.6 if x < 12 else 2.2 if x < 12 else 2.7 if x < 14 else 3.0 if x < 28 else 'Speed beyond cut off')\n",
    "wind_speed"
   ]
  },
  {
   "cell_type": "code",
   "execution_count": 13,
   "id": "c52f8dc2",
   "metadata": {},
   "outputs": [],
   "source": [
    "# (f) Which wind turbine would yield the most electrical energy in the year? By what margin?"
   ]
  },
  {
   "cell_type": "code",
   "execution_count": 55,
   "id": "bb1d39c7",
   "metadata": {},
   "outputs": [
    {
     "data": {
      "text/plain": [
       "6585.7"
      ]
     },
     "execution_count": 55,
     "metadata": {},
     "output_type": "execute_result"
    }
   ],
   "source": [
    "a = wind_speed['Power_Production_Enercon E82 3000kW [MW]'].sum()\n",
    "a"
   ]
  },
  {
   "cell_type": "code",
   "execution_count": 56,
   "id": "a60133c4-ea83-47d2-aa5b-bb6db470f3fb",
   "metadata": {},
   "outputs": [
    {
     "data": {
      "text/plain": [
       "10180.8"
      ]
     },
     "execution_count": 56,
     "metadata": {},
     "output_type": "execute_result"
    }
   ],
   "source": [
    "a = wind_speed['Power_Production_Vestas_V112_[MW]'].sum()\n",
    "a"
   ]
  },
  {
   "cell_type": "code",
   "execution_count": 16,
   "id": "62591629",
   "metadata": {},
   "outputs": [],
   "source": [
    "# (g) Normalise the power output time series by the turbine’s rated capacity."
   ]
  },
  {
   "cell_type": "code",
   "execution_count": 17,
   "id": "de8ef00b",
   "metadata": {},
   "outputs": [
    {
     "data": {
      "text/html": [
       "<div>\n",
       "<style scoped>\n",
       "    .dataframe tbody tr th:only-of-type {\n",
       "        vertical-align: middle;\n",
       "    }\n",
       "\n",
       "    .dataframe tbody tr th {\n",
       "        vertical-align: top;\n",
       "    }\n",
       "\n",
       "    .dataframe thead th {\n",
       "        text-align: right;\n",
       "    }\n",
       "</style>\n",
       "<table border=\"1\" class=\"dataframe\">\n",
       "  <thead>\n",
       "    <tr style=\"text-align: right;\">\n",
       "      <th></th>\n",
       "      <th>wind_speed</th>\n",
       "      <th>wind_speed_at_80m_hub_height</th>\n",
       "      <th>Power_Production_Vestas_V112_[MW]</th>\n",
       "      <th>Power_Production_Enercon E82 3000kW [MW]</th>\n",
       "      <th>capacity_factor</th>\n",
       "    </tr>\n",
       "    <tr>\n",
       "      <th>time</th>\n",
       "      <th></th>\n",
       "      <th></th>\n",
       "      <th></th>\n",
       "      <th></th>\n",
       "      <th></th>\n",
       "    </tr>\n",
       "  </thead>\n",
       "  <tbody>\n",
       "    <tr>\n",
       "      <th>2019-01-01 00:00:00</th>\n",
       "      <td>7.885</td>\n",
       "      <td>10.61</td>\n",
       "      <td>2.6</td>\n",
       "      <td>1.6</td>\n",
       "      <td>0.87</td>\n",
       "    </tr>\n",
       "    <tr>\n",
       "      <th>2019-01-01 01:00:00</th>\n",
       "      <td>8.786</td>\n",
       "      <td>11.83</td>\n",
       "      <td>2.6</td>\n",
       "      <td>1.6</td>\n",
       "      <td>0.87</td>\n",
       "    </tr>\n",
       "    <tr>\n",
       "      <th>2019-01-01 02:00:00</th>\n",
       "      <td>9.390</td>\n",
       "      <td>12.64</td>\n",
       "      <td>3.0</td>\n",
       "      <td>2.7</td>\n",
       "      <td>1.00</td>\n",
       "    </tr>\n",
       "    <tr>\n",
       "      <th>2019-01-01 03:00:00</th>\n",
       "      <td>9.768</td>\n",
       "      <td>13.15</td>\n",
       "      <td>3.0</td>\n",
       "      <td>2.7</td>\n",
       "      <td>1.00</td>\n",
       "    </tr>\n",
       "    <tr>\n",
       "      <th>2019-01-01 04:00:00</th>\n",
       "      <td>10.317</td>\n",
       "      <td>13.89</td>\n",
       "      <td>3.0</td>\n",
       "      <td>2.7</td>\n",
       "      <td>1.00</td>\n",
       "    </tr>\n",
       "    <tr>\n",
       "      <th>...</th>\n",
       "      <td>...</td>\n",
       "      <td>...</td>\n",
       "      <td>...</td>\n",
       "      <td>...</td>\n",
       "      <td>...</td>\n",
       "    </tr>\n",
       "    <tr>\n",
       "      <th>2019-12-31 19:00:00</th>\n",
       "      <td>6.600</td>\n",
       "      <td>8.88</td>\n",
       "      <td>1.4</td>\n",
       "      <td>0.8</td>\n",
       "      <td>0.47</td>\n",
       "    </tr>\n",
       "    <tr>\n",
       "      <th>2019-12-31 20:00:00</th>\n",
       "      <td>6.097</td>\n",
       "      <td>8.21</td>\n",
       "      <td>1.4</td>\n",
       "      <td>0.8</td>\n",
       "      <td>0.47</td>\n",
       "    </tr>\n",
       "    <tr>\n",
       "      <th>2019-12-31 21:00:00</th>\n",
       "      <td>5.802</td>\n",
       "      <td>7.81</td>\n",
       "      <td>0.5</td>\n",
       "      <td>0.3</td>\n",
       "      <td>0.17</td>\n",
       "    </tr>\n",
       "    <tr>\n",
       "      <th>2019-12-31 22:00:00</th>\n",
       "      <td>5.372</td>\n",
       "      <td>7.23</td>\n",
       "      <td>0.5</td>\n",
       "      <td>0.3</td>\n",
       "      <td>0.17</td>\n",
       "    </tr>\n",
       "    <tr>\n",
       "      <th>2019-12-31 23:00:00</th>\n",
       "      <td>5.108</td>\n",
       "      <td>6.87</td>\n",
       "      <td>0.5</td>\n",
       "      <td>0.3</td>\n",
       "      <td>0.17</td>\n",
       "    </tr>\n",
       "  </tbody>\n",
       "</table>\n",
       "<p>8760 rows × 5 columns</p>\n",
       "</div>"
      ],
      "text/plain": [
       "                     wind_speed  wind_speed_at_80m_hub_height  \\\n",
       "time                                                            \n",
       "2019-01-01 00:00:00       7.885                         10.61   \n",
       "2019-01-01 01:00:00       8.786                         11.83   \n",
       "2019-01-01 02:00:00       9.390                         12.64   \n",
       "2019-01-01 03:00:00       9.768                         13.15   \n",
       "2019-01-01 04:00:00      10.317                         13.89   \n",
       "...                         ...                           ...   \n",
       "2019-12-31 19:00:00       6.600                          8.88   \n",
       "2019-12-31 20:00:00       6.097                          8.21   \n",
       "2019-12-31 21:00:00       5.802                          7.81   \n",
       "2019-12-31 22:00:00       5.372                          7.23   \n",
       "2019-12-31 23:00:00       5.108                          6.87   \n",
       "\n",
       "                     Power_Production_Vestas_V112_[MW]  \\\n",
       "time                                                     \n",
       "2019-01-01 00:00:00                                2.6   \n",
       "2019-01-01 01:00:00                                2.6   \n",
       "2019-01-01 02:00:00                                3.0   \n",
       "2019-01-01 03:00:00                                3.0   \n",
       "2019-01-01 04:00:00                                3.0   \n",
       "...                                                ...   \n",
       "2019-12-31 19:00:00                                1.4   \n",
       "2019-12-31 20:00:00                                1.4   \n",
       "2019-12-31 21:00:00                                0.5   \n",
       "2019-12-31 22:00:00                                0.5   \n",
       "2019-12-31 23:00:00                                0.5   \n",
       "\n",
       "                     Power_Production_Enercon E82 3000kW [MW]  capacity_factor  \n",
       "time                                                                            \n",
       "2019-01-01 00:00:00                                       1.6             0.87  \n",
       "2019-01-01 01:00:00                                       1.6             0.87  \n",
       "2019-01-01 02:00:00                                       2.7             1.00  \n",
       "2019-01-01 03:00:00                                       2.7             1.00  \n",
       "2019-01-01 04:00:00                                       2.7             1.00  \n",
       "...                                                       ...              ...  \n",
       "2019-12-31 19:00:00                                       0.8             0.47  \n",
       "2019-12-31 20:00:00                                       0.8             0.47  \n",
       "2019-12-31 21:00:00                                       0.3             0.17  \n",
       "2019-12-31 22:00:00                                       0.3             0.17  \n",
       "2019-12-31 23:00:00                                       0.3             0.17  \n",
       "\n",
       "[8760 rows x 5 columns]"
      ]
     },
     "execution_count": 17,
     "metadata": {},
     "output_type": "execute_result"
    }
   ],
   "source": [
    "wind_speed['capacity_factor'] = wind_speed['Power_Production_Vestas_V112_[MW]'].map(lambda x: x /(3)).round(2)\n",
    "wind_speed"
   ]
  },
  {
   "cell_type": "code",
   "execution_count": 18,
   "id": "9944f3f4",
   "metadata": {},
   "outputs": [],
   "source": [
    "# (h) What is the annual average capacity factor of the wind turbine"
   ]
  },
  {
   "cell_type": "code",
   "execution_count": 19,
   "id": "a7403d25",
   "metadata": {},
   "outputs": [
    {
     "data": {
      "text/plain": [
       "0.3904"
      ]
     },
     "execution_count": 19,
     "metadata": {},
     "output_type": "execute_result"
    }
   ],
   "source": [
    "wind_speed['capacity_factor'].mean().round(4)"
   ]
  },
  {
   "cell_type": "code",
   "execution_count": 20,
   "id": "f6168033",
   "metadata": {},
   "outputs": [],
   "source": [
    "# (i) What share of time does the wind turbine produce nothing?"
   ]
  },
  {
   "cell_type": "code",
   "execution_count": 21,
   "id": "08b99c82",
   "metadata": {},
   "outputs": [
    {
     "name": "stdout",
     "output_type": "stream",
     "text": [
      "The turbine does not produce electricity for: 281 hours\n"
     ]
    }
   ],
   "source": [
    "no_production = wind_speed['Power_Production_Vestas_V112_[MW]'].value_counts()[0]\n",
    "print(\"The turbine does not produce electricity for:\", no_production, \"hours\")"
   ]
  },
  {
   "cell_type": "code",
   "execution_count": 22,
   "id": "8c24240b",
   "metadata": {},
   "outputs": [],
   "source": [
    "# (j) What share of time does the wind turbine produce at rated capacity?"
   ]
  },
  {
   "cell_type": "code",
   "execution_count": 23,
   "id": "61c8b4db",
   "metadata": {},
   "outputs": [
    {
     "name": "stdout",
     "output_type": "stream",
     "text": [
      "The turbine produces electricty at rated capacity for: 562 hours\n"
     ]
    }
   ],
   "source": [
    "rated_capacity_production = wind_speed['Power_Production_Vestas_V112_[MW]'].value_counts()[3.0]\n",
    "print(\"The turbine produces electricty at rated capacity for:\", rated_capacity_production, \"hours\")"
   ]
  },
  {
   "cell_type": "code",
   "execution_count": 24,
   "id": "1f906902",
   "metadata": {},
   "outputs": [],
   "source": [
    "# (k) Does the wind turbine ever shut down because of too high wind speeds?"
   ]
  },
  {
   "cell_type": "code",
   "execution_count": 25,
   "id": "5f991770",
   "metadata": {},
   "outputs": [
    {
     "name": "stdout",
     "output_type": "stream",
     "text": [
      "The wind turbines does not shut down due to high speeds\n"
     ]
    }
   ],
   "source": [
    "cut_off_speed_vestas = 25\n",
    "count_cutoff = (wind_speed['wind_speed_at_80m_hub_height'] > cut_off_speed_vestas).sum()\n",
    "if count_cutoff == 0:\n",
    "    print(\"The wind turbines does not shut down due to high speeds\")\n",
    "else:\n",
    "    print(f\"The wind turbines shut down {count_cutoff} times due to high speeds\")"
   ]
  },
  {
   "cell_type": "code",
   "execution_count": 26,
   "id": "84795c35",
   "metadata": {},
   "outputs": [],
   "source": [
    "# (l) Plot the capacity factor time series for the full year using (l) matplotlib. Include axis labels!"
   ]
  },
  {
   "cell_type": "code",
   "execution_count": 27,
   "id": "8a2a05b9",
   "metadata": {},
   "outputs": [
    {
     "data": {
      "text/plain": [
       "<Axes: xlabel='time', ylabel='capacity_factor'>"
      ]
     },
     "execution_count": 27,
     "metadata": {},
     "output_type": "execute_result"
    },
    {
     "data": {
      "image/png": "[encoded data removed]",
      "text/plain": [
       "<Figure size 2000x500 with 1 Axes>"
      ]
     },
     "metadata": {},
     "output_type": "display_data"
    }
   ],
   "source": [
    "wind_speed['capacity_factor'].plot(ylabel='capacity_factor', figsize=(20, 5))"
   ]
  }
 ],
 "metadata": {
  "kernelspec": {
   "display_name": "Python 3 (ipykernel)",
   "language": "python",
   "name": "python3"
  },
  "language_info": {
   "codemirror_mode": {
    "name": "ipython",
    "version": 3
   },
   "file_extension": ".py",
   "mimetype": "text/x-python",
   "name": "python",
   "nbconvert_exporter": "python",
   "pygments_lexer": "ipython3",
   "version": "3.12.8"
  }
 },
 "nbformat": 4,
 "nbformat_minor": 5
}
